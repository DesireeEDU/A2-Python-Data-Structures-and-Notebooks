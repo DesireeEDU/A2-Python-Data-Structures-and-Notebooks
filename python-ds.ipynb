{
 "cells": [
  {
   "attachments": {},
   "cell_type": "markdown",
   "metadata": {},
   "source": [
    "# Web Mining and Applied NLP (44-620)\n",
    "\n",
    "## Python Notebooks, Basics, and Data Structures\n",
    "\n",
    "### Student Name: Desiree Thompson - https://github.com/DesireeEDU/A2-Python-Data-Structures-and-Notebooks/tree/main\n",
    "\n",
    "Perform the tasks described in the Markdown cells below.  When you have completed the assignment make sure your code cells have all been run (and have output beneath them) and ensure you have committed and pushed ALL of your changes to your assignment repository.\n",
    "\n",
    "Every question that requires you to write code will have a code cell underneath it; you may either write your entire solution in that cell or write it in a python file (`.py`), then import and run the appropriate code to answer the question.\n",
    "\n",
    "Do not use external modules (`math`, etc) for this assignment unless you are explicitly instructed to, though you may use built in python functions (`min`, `max`, etc) as you wish."
   ]
  },
  {
   "attachments": {},
   "cell_type": "markdown",
   "metadata": {},
   "source": [
    "1. Modify the Markdown cell above to put your name after \"Student Name:\"; you will be expected to do this in all assignments presented in this format for this class."
   ]
  },
  {
   "attachments": {},
   "cell_type": "markdown",
   "metadata": {},
   "source": [
    "2. Write code that divides any two numbers, stores the result in a variable, and prints the result with an appropriate label."
   ]
  },
  {
   "cell_type": "code",
   "execution_count": 6,
   "metadata": {},
   "outputs": [
    {
     "name": "stdout",
     "output_type": "stream",
     "text": [
      "The result of 10 divided by 5 is 2.0\n"
     ]
    }
   ],
   "source": [
    "x = 10\n",
    "y = 5\n",
    "\n",
    "answer_two = (x/y)\n",
    "print(f\"The result of {x} divided by {y} is {answer_two}\")"
   ]
  },
  {
   "attachments": {},
   "cell_type": "markdown",
   "metadata": {},
   "source": [
    "3. Using loops (and potentially conditionals), write Python code that prints the factorial of each integer from 1 through 10 (which you can store in a variable if you want). The factorial of an integer is the product of all of the integers of 1 through the number. Print the result with an appropriate label."
   ]
  },
  {
   "cell_type": "code",
   "execution_count": 7,
   "metadata": {},
   "outputs": [
    {
     "name": "stdout",
     "output_type": "stream",
     "text": [
      "The factorial of:\n",
      "1 is 1\n",
      "2 is 2\n",
      "3 is 6\n",
      "4 is 24\n",
      "5 is 120\n",
      "6 is 720\n",
      "7 is 5040\n",
      "8 is 40320\n",
      "9 is 362880\n",
      "10 is 3628800\n"
     ]
    }
   ],
   "source": [
    "print(\"The factorial of:\")\n",
    "\n",
    "factorial = 1\n",
    "\n",
    "for i in range (1, 11):\n",
    "    factorial = factorial*i\n",
    "    \n",
    "    print(f\"{i} is {factorial}\")"
   ]
  },
  {
   "attachments": {},
   "cell_type": "markdown",
   "metadata": {},
   "source": [
    "4. Write a python function that takes a single parameter and calculates and returns the average (mean) of the values in the parameter (which you may assume is iterable).  Show that your function works by printing the result of calling the function on the list in the cell below."
   ]
  },
  {
   "cell_type": "code",
   "execution_count": 8,
   "metadata": {},
   "outputs": [
    {
     "name": "stdout",
     "output_type": "stream",
     "text": [
      "The mean of the list is 0.0\n"
     ]
    }
   ],
   "source": [
    "testlist = [1,-1,2,-2,3,-3,4,-4]\n",
    "\n",
    "def mean_function(list):\n",
    "    average = f\"{((sum(list)/len(list))):.2f}\"\n",
    "    return float(average)\n",
    "\n",
    "mean_function(testlist)\n",
    "    \n",
    "print(f\"The mean of the list is {mean_function(testlist)}\")"
   ]
  },
  {
   "attachments": {},
   "cell_type": "markdown",
   "metadata": {},
   "source": [
    "5. Using your mean function above, write a function that calculates the variance of the list of numbers (see https://en.wikipedia.org/wiki/Variance for more information on the formula). In short:\n",
    "* subtract the mean of the elements in the list from every element in the list; store these values in a new list\n",
    "* square every element in the new list and sum the elements together\n",
    "* divide the resulting number by N (where N is the length of the original list)\n",
    "\n",
    "Show the result of calling your function in the lists in the code cell. You must use one or more list comprehensions or map/filter in your code.\n"
   ]
  },
  {
   "cell_type": "code",
   "execution_count": 19,
   "metadata": {},
   "outputs": [
    {
     "name": "stdout",
     "output_type": "stream",
     "text": [
      "The variance of list1 is 1.1397 and \n",
      "the variance of list2 is  0.9257 \n"
     ]
    }
   ],
   "source": [
    "list1 = [ 5.670e-1, -1.480e+0, -5.570e-1, -1.470e+0, 7.340e-1, 1.050e+0, 4.480e-1, 2.570e-1, -1.970e+0, -1.460e+0]\n",
    "list2 = [-1.780e+0, 2.640e-1, 1.160e+0, 9.080e-1, 1.780e+0, 1.080e+0, 1.050e+0, -4.630e-2, 1.520e+0, 5.350e-1]\n",
    "# the variances of both lists should be relatively close to 1 (off by less than .15)\n",
    "\n",
    "def variance_function(x_list):\n",
    "    \n",
    "    mean_function(x_list)\n",
    "       \n",
    "    squared = []\n",
    "\n",
    "    for i in x_list:\n",
    "        squared.append(((i - (mean_function(x_list)))**2))\n",
    "\n",
    "    sum_squared = sum(squared)\n",
    "    variance = sum_squared / len(squared)\n",
    " \n",
    "    return variance   \n",
    "    \n",
    "variance_function(list1)\n",
    "variance_function(list2)\n",
    "variance_function(newlist)\n",
    "    \n",
    "print(f\"The variance of list1 is {variance_function(list1):.4f} and \\nthe variance of list2 is  {variance_function(list2):.4f} \")\n",
    "    "
   ]
  },
  {
   "attachments": {},
   "cell_type": "markdown",
   "metadata": {},
   "source": [
    "6. Create a list with at least 15 elements in it. Use list slicing to print the following:\n",
    "* The first 5 elements of the list\n",
    "* The last 5 elements of the list\n",
    "* The list reversed (hint, show the entire list with a stride of -1)\n",
    "* Every second element in the list\n",
    "* Every third element in the list (stride of 3)"
   ]
  },
  {
   "cell_type": "code",
   "execution_count": null,
   "metadata": {},
   "outputs": [
    {
     "name": "stdout",
     "output_type": "stream",
     "text": [
      "The first 5 elements of the list are: ['Labrador Retriever', 'Golden Retriever', 'Yorkshire Terrier', 'German Shepherd', 'Beagle']\n",
      "The last 5 elements of the list are: ['Rottweiler', 'Boston Terrier', 'Shetland Sheepdog', 'Maltese', 'Doberman']\n",
      "The list in reverse order: ['Doberman', 'Maltese', 'Shetland Sheepdog', 'Boston Terrier', 'Rottweiler', 'American Spaniel', 'Pomeranian', 'Bulldog', 'Pug', 'Chihuahua', 'Schnauzer', 'Shih Tzu', 'Poodle', 'Boxer', 'Dachshund', 'Beagle', 'German Shepherd', 'Yorkshire Terrier', 'Golden Retriever', 'Labrador Retriever']\n",
      "The list in reverse order: ['Labrador Retriever', 'Yorkshire Terrier', 'Beagle', 'Boxer', 'Shih Tzu', 'Chihuahua', 'Bulldog', 'American Spaniel', 'Boston Terrier', 'Maltese']\n",
      "The list in reverse order: ['Labrador Retriever', 'German Shepherd', 'Boxer', 'Schnauzer', 'Bulldog', 'Rottweiler', 'Maltese']\n"
     ]
    }
   ],
   "source": [
    "dogs = [\"Labrador Retriever\", \"Golden Retriever\", \"Yorkshire Terrier\", \"German Shepherd\", \"Beagle\", \"Dachshund\", \"Boxer\", \"Poodle\", \"Shih Tzu\", \"Schnauzer\", \"Chihuahua\", \"Pug\", \"Bulldog\", \"Pomeranian\", \"American Spaniel\", \"Rottweiler\", \"Boston Terrier\", \"Shetland Sheepdog\", \"Maltese\", \"Doberman\"]\n",
    "\n",
    "first_five = dogs[:5]\n",
    "last_five = dogs[-5:]\n",
    "reversed_list = dogs[::-1]\n",
    "second_element = dogs[::2]\n",
    "third_element = dogs[::3]\n",
    "\n",
    "print (f\"The first 5 elements of the list are: {first_five}\")\n",
    "print (f\"The last 5 elements of the list are: {last_five}\")\n",
    "print (f\"The list in reverse order: {reversed_list}\")\n",
    "print (f\"The list in reverse order: {second_element}\")\n",
    "print (f\"The list in reverse order: {third_element}\")"
   ]
  },
  {
   "attachments": {},
   "cell_type": "markdown",
   "metadata": {},
   "source": [
    "7. Build a dictionary that contains the following information about this class (with appropriate names as keys):\n",
    "* The name\n",
    "* The course number\n",
    "* The semester/term in which you are taking this course\n",
    "* The number of credit hours this course counts for\n",
    "* A list of the course learning objectives\n",
    "\n",
    "The majority of this information can be found in the syllabus. Print the dictionary."
   ]
  },
  {
   "cell_type": "code",
   "execution_count": null,
   "metadata": {},
   "outputs": [
    {
     "name": "stdout",
     "output_type": "stream",
     "text": [
      "The following is contained in the nw_missouri_state_class dictionary: {'name': 'Web Mining & Applied Natural Language Processing', 'course number': 44620, 'semester/term': 'Summer 23', 'credit hours': 3, 'Learning Objectives': ['Manage Python libraries and packages', 'Interact with Hosted Version Control Systems', 'Programmatically obtain and transform data from web-based APIs and HTML pages into a usable form', 'Describe the steps in a basic Natural Langurage Processing Pipeline', 'Use pre-existing tools and software libraries to perform some Natural Language Processing such as sentiment analysis', 'Explain results and conclusion drawn from the visualized infromation']} \n",
      "\n"
     ]
    }
   ],
   "source": [
    "nw_missouri_state_class = {\"name\": 'Web Mining & Applied Natural Language Processing',\n",
    "                            'course number': 44620,\n",
    "                            'semester/term': 'Summer 23',\n",
    "                            'credit hours': 3,\n",
    "                            'Learning Objectives': ['Manage Python libraries and packages', \n",
    "                                                    'Interact with Hosted Version Control Systems', \n",
    "                                                    'Programmatically obtain and transform data from web-based APIs and HTML pages into a usable form', \n",
    "                                                    'Describe the steps in a basic Natural Langurage Processing Pipeline', \n",
    "                                                    'Use pre-existing tools and software libraries to perform some Natural Language Processing such as sentiment analysis', \n",
    "                                                    'Explain results and conclusion drawn from the visualized infromation']}\n",
    "\n",
    "print(f\"The following is contained in the nw_missouri_state_class dictionary: {nw_missouri_state_class} \\n\")\n"
   ]
  },
  {
   "attachments": {},
   "cell_type": "markdown",
   "metadata": {},
   "source": [
    "8.  Given the dictionary defined in the code cell below, print the list of level 3 spells the character has."
   ]
  },
  {
   "cell_type": "code",
   "execution_count": null,
   "metadata": {},
   "outputs": [
    {
     "name": "stdout",
     "output_type": "stream",
     "text": [
      " The player has the following spells available in level 3:\n",
      "['Mass Healing Word', 'Nondetection', 'Revivify', 'Feign Death', 'Speak with Dead']\n"
     ]
    }
   ],
   "source": [
    "player_character = {'name': 'Kitab',\n",
    "                   'class': [('Cleric: Knowledge', 7)],\n",
    "                   'spells': {'cantrip': ['Guidance', 'Light', 'Thaumaturgy', 'Toll the Dead', 'Word of Radiance'],\n",
    "                             'level 1': ['Command', 'Detect Magic', 'Healing Word', 'Identify', 'Sleep'],\n",
    "                             'level 2': ['Augury', 'Calm Emotions', 'Command', 'Invisibility', 'Lesser Restoration'],\n",
    "                             'level 3': ['Mass Healing Word', 'Nondetection', 'Revivify', 'Feign Death', 'Speak with Dead'],\n",
    "                             'level 4': ['Banishment', 'Confusion']}\n",
    "                   }\n",
    "print(f\" The player has the following spells available in level 3:\\n{player_character['spells']['level 3']}\")"
   ]
  },
  {
   "attachments": {},
   "cell_type": "markdown",
   "metadata": {},
   "source": [
    "9. Write code to determine the number of unique elements in the list below.  You MUST use a set in finding your solution.  Print the number of unique values in the list with an appropriate label."
   ]
  },
  {
   "cell_type": "code",
   "execution_count": null,
   "metadata": {},
   "outputs": [
    {
     "name": "stdout",
     "output_type": "stream",
     "text": [
      " The set contains 12 unique values\n"
     ]
    }
   ],
   "source": [
    "values = [10, 11, 10, 8, 1, 12, 0, 1, 6, 5, 5, 13, 6, 15, 0, 0, 1, 1, 9, 7]\n",
    "\n",
    "values_set = set(values)\n",
    "unique_values = len(values_set)\n",
    "print(f\" The set contains {unique_values} unique values\")\n"
   ]
  },
  {
   "attachments": {},
   "cell_type": "markdown",
   "metadata": {},
   "source": [
    "10. Create a new Jupyter Notebook (the name of the notebook should be your S number). Add a Markdown cell that contains your name. Add a Code cell and write Python that uses loops to draw the following pattern:\n",
    "\n",
    "```\n",
    "*      *\n",
    "**    **\n",
    "***  ***\n",
    "********\n",
    "```\n",
    "Make sure to add and submit both the new notebook and the changes to this notebook for this assignment."
   ]
  }
 ],
 "metadata": {
  "kernelspec": {
   "display_name": "Python 3 (ipykernel)",
   "language": "python",
   "name": "python3"
  },
  "language_info": {
   "codemirror_mode": {
    "name": "ipython",
    "version": 3
   },
   "file_extension": ".py",
   "mimetype": "text/x-python",
   "name": "python",
   "nbconvert_exporter": "python",
   "pygments_lexer": "ipython3",
   "version": "3.10.8"
  }
 },
 "nbformat": 4,
 "nbformat_minor": 4
}
